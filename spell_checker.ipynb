{
 "cells": [
  {
   "cell_type": "markdown",
   "id": "677256ae-fd53-417f-b48b-0b6039b05eda",
   "metadata": {},
   "source": [
    "## spell checker"
   ]
  },
  {
   "cell_type": "code",
   "execution_count": 2,
   "id": "f2524ac2-aae5-4fc1-a8c4-0d7d558c54b3",
   "metadata": {},
   "outputs": [],
   "source": [
    "import re\n",
    "import pandas as pd"
   ]
  },
  {
   "cell_type": "code",
   "execution_count": 3,
   "id": "3233a723-7498-4ed6-a6b0-d3f99f7b1896",
   "metadata": {},
   "outputs": [
    {
     "name": "stdout",
     "output_type": "stream",
     "text": [
      "1115585\n",
      "32198\n"
     ]
    }
   ],
   "source": [
    "with open('big.txt','r') as fd:\n",
    "    lines = fd.readlines()\n",
    "    words = []\n",
    "    for line in lines:\n",
    "        words += re.findall('\\w+',line.lower())\n",
    "        \n",
    "print(len(words))\n",
    "vocab = list(set(words))\n",
    "print(len(vocab))"
   ]
  },
  {
   "cell_type": "markdown",
   "id": "f74a6c49-d878-482b-898e-eaf688aaf413",
   "metadata": {},
   "source": [
    "## word probabilites"
   ]
  },
  {
   "cell_type": "code",
   "execution_count": 18,
   "id": "f049350a-3c9b-470d-8c84-73cd1aa4d05e",
   "metadata": {},
   "outputs": [
    {
     "ename": "KeyboardInterrupt",
     "evalue": "",
     "output_type": "error",
     "traceback": [
      "\u001b[1;31m---------------------------------------------------------------------------\u001b[0m",
      "\u001b[1;31mKeyboardInterrupt\u001b[0m                         Traceback (most recent call last)",
      "Cell \u001b[1;32mIn[18], line 4\u001b[0m\n\u001b[0;32m      1\u001b[0m word_probability \u001b[38;5;241m=\u001b[39m {}\n\u001b[0;32m      3\u001b[0m \u001b[38;5;28;01mfor\u001b[39;00m word \u001b[38;5;129;01min\u001b[39;00m (vocab):\n\u001b[1;32m----> 4\u001b[0m     word_probability[word] \u001b[38;5;241m=\u001b[39m \u001b[38;5;28mfloat\u001b[39m(words\u001b[38;5;241m.\u001b[39mcount(word)\u001b[38;5;241m/\u001b[39m\u001b[38;5;28mlen\u001b[39m(words))\n",
      "\u001b[1;31mKeyboardInterrupt\u001b[0m: "
     ]
    }
   ],
   "source": [
    "word_probability = {}\n",
    "\n",
    "for word in (vocab):\n",
    "    word_probability[word] = float(words.count(word)/len(words))"
   ]
  },
  {
   "cell_type": "code",
   "execution_count": 5,
   "id": "59233a90-350e-4764-949d-aa091b2f7bbf",
   "metadata": {},
   "outputs": [],
   "source": [
    "def split(word):  \n",
    "    parts = []\n",
    "    for i in range(len(word) + 1):\n",
    "        parts += [(word[ : i], word[i : ])]\n",
    "    return parts"
   ]
  },
  {
   "cell_type": "code",
   "execution_count": 6,
   "id": "304439d4-eb8e-4abf-9817-40bff343c3bc",
   "metadata": {},
   "outputs": [
    {
     "data": {
      "text/plain": [
       "['oave', 'lave', 'love', 'loae', 'loav', 'loave']"
      ]
     },
     "execution_count": 6,
     "metadata": {},
     "output_type": "execute_result"
    }
   ],
   "source": [
    "def delete(word):\n",
    "    \n",
    "    output = []\n",
    "    for l,r in split(word):\n",
    "        output.append(l + r[1:])\n",
    "    return output\n",
    "\n",
    "delete('loave')"
   ]
  },
  {
   "cell_type": "code",
   "execution_count": 7,
   "id": "4ae15e53-c268-4499-8753-c27878099289",
   "metadata": {},
   "outputs": [
    {
     "data": {
      "text/plain": [
       "['vloe', 'love', 'lveo']"
      ]
     },
     "execution_count": 7,
     "metadata": {},
     "output_type": "execute_result"
    }
   ],
   "source": [
    "def swap(word):\n",
    "        \n",
    "    output = []    \n",
    "    for l,r in split(word):\n",
    "        if (len(r) > 1):\n",
    "            output.append(l + r[1] + r[0] + r[2:])\n",
    "    return output\n",
    "            \n",
    "swap('lvoe')"
   ]
  },
  {
   "cell_type": "code",
   "execution_count": 8,
   "id": "480e1930-bbe9-4a5b-ad52-3cf364897d79",
   "metadata": {},
   "outputs": [
    {
     "data": {
      "text/plain": [
       "130"
      ]
     },
     "execution_count": 8,
     "metadata": {},
     "output_type": "execute_result"
    }
   ],
   "source": [
    "def replace(word):\n",
    "    \n",
    "    characters = 'abcdefghijklmnopqrstuvwxyz'\n",
    "    output = []    \n",
    "\n",
    "    for l,r in split(word):\n",
    "        for char in characters:\n",
    "            output.append(l + char +  r[1:])\n",
    "    return output\n",
    "\n",
    "len(replace('lave'))"
   ]
  },
  {
   "cell_type": "code",
   "execution_count": 14,
   "id": "0bf946da-82ad-44ba-8d1b-8724a73a1289",
   "metadata": {},
   "outputs": [
    {
     "data": {
      "text/plain": [
       "104"
      ]
     },
     "execution_count": 14,
     "metadata": {},
     "output_type": "execute_result"
    }
   ],
   "source": [
    "def inserts(word):\n",
    "\n",
    "    characters = 'abcdefghijklmnopqrstuvwxyz'\n",
    "    output = []\n",
    "\n",
    "    for l,r in split(word):\n",
    "        for char in characters:\n",
    "            output.append(l + char + r)\n",
    "\n",
    "    return output\n",
    "\n",
    "len(inserts('lve'))"
   ]
  },
  {
   "cell_type": "code",
   "execution_count": 15,
   "id": "a8eabc8d-989d-412f-b175-41ca2ef4d326",
   "metadata": {},
   "outputs": [],
   "source": [
    "def edit(word):   \n",
    "    return list(set(inserts(word) + delete(word) + swap(word) + replace(word)))"
   ]
  },
  {
   "cell_type": "markdown",
   "id": "622bbe02-07e5-4be8-82d8-fd93390601da",
   "metadata": {},
   "source": [
    "## edit 1"
   ]
  },
  {
   "cell_type": "code",
   "execution_count": 21,
   "id": "a9f53882-5703-4e72-bd08-5ae931f4073a",
   "metadata": {},
   "outputs": [],
   "source": [
    "def spell_check_edit_1(word, count = 5):\n",
    "    \n",
    "    output = []\n",
    "    suggested_words = edit(word)\n",
    "    \n",
    "    for wrd in suggested_words:        \n",
    "        if wrd in word_probability.keys():\n",
    "            output.append([wrd, word_probability[wrd]])\n",
    "            \n",
    "    return list(pd.DataFrame(output, columns = ['word','prob']).sort_values(by = 'prob', ascending = False).head(count)['word'].values)"
   ]
  },
  {
   "cell_type": "markdown",
   "id": "56798651-12fa-45ab-bb92-10f1e3184702",
   "metadata": {},
   "source": [
    "## edit 2"
   ]
  },
  {
   "cell_type": "code",
   "execution_count": 19,
   "id": "5555a31f-147c-4043-a763-8cf8da3ecfc1",
   "metadata": {},
   "outputs": [],
   "source": [
    "word_probability = {'example': 0.9, 'samples': 0.8, 'examine': 0.7, 'exemplify': 0.6}\n",
    "\n",
    "def spell_check_edit_2(word, count = 5):\n",
    "    \n",
    "    output = []\n",
    "    suggested_words = edit(word)       # Level one Edit\n",
    "    \n",
    "    for e1 in edit(word):\n",
    "        suggested_words += edit(e1)    # Second Level Edit \n",
    "    \n",
    "    suggested_words = list(set(suggested_words))\n",
    "    \n",
    "    for wrd in suggested_words:\n",
    "        if wrd in word_probability.keys():\n",
    "            output.append([wrd, word_probability[wrd]])\n",
    "    return list(pd.DataFrame(output, columns = ['word','prob']).sort_values(by = 'prob', ascending = False).head(count)['word'].values)\n",
    "        \n",
    "\n",
    "def check_spelling():\n",
    "    word = entry.get().strip().lower()  # Get input word\n",
    "    if not word:\n",
    "        messagebox.showerror(\"Error\", \"Please enter a word.\")\n",
    "        return\n",
    "    \n",
    "    suggestions = spell_check_edit_2(word)  # Pass the word argument properly\n",
    "    \n",
    "    # Display suggestions in output_label\n",
    "    suggestions_text = \"\\n\".join(suggestions)\n",
    "    output_label.config(text=f\"Suggestions:\\n{suggestions_text}\")"
   ]
  },
  {
   "cell_type": "markdown",
   "id": "630885c3-0920-41d4-aeb0-9c97575db558",
   "metadata": {},
   "source": [
    "## tkinter"
   ]
  },
  {
   "cell_type": "code",
   "execution_count": null,
   "id": "6dc93744-6f09-4da0-b84d-b7212f60a673",
   "metadata": {},
   "outputs": [],
   "source": [
    "import tkinter as tk\n",
    "from tkinter import messagebox\n",
    "root = tk.Tk()\n",
    "root.title(\"Spell Checker\")\n",
    "root.geometry(\"400x300\")\n",
    "\n",
    "# Title Label\n",
    "title_label = tk.Label(root, text=\"Spell Checker\", font=(\"Arial\", 16, \"bold\"))\n",
    "title_label.pack(pady=10)\n",
    "\n",
    "# Entry Field\n",
    "entry = tk.Entry(root, font=(\"Arial\", 14), width=25)\n",
    "entry.pack(pady=10)\n",
    "# Check Button\n",
    "check_button = tk.Button(root, text=\"Check Spelling\", command=check_spelling)\n",
    "check_button.pack(pady=10)\n",
    "clear_button = tk.Button(root, text=\"Clear\", command=lambda: clear_fields(entry, output_label))\n",
    "clear_button.pack(pady=5)\n",
    "output_label = tk.Label(root, text=\"\", font=(\"Arial\", 12), fg=\"blue\")\n",
    "output_label.pack(pady=10)\n",
    "\n",
    "# Run Tkinter App\n",
    "root.mainloop()"
   ]
  },
  {
   "cell_type": "markdown",
   "id": "b6191365-bbc9-469e-b9d1-ffd5d4240834",
   "metadata": {},
   "source": [
    "## whole code at once"
   ]
  },
  {
   "cell_type": "code",
   "execution_count": null,
   "id": "5c64bb05-3638-4580-8e8a-fa515244ae67",
   "metadata": {},
   "outputs": [],
   "source": [
    "import tkinter as tk\n",
    "from tkinter import messagebox\n",
    "import pandas as pd\n",
    "from collections import Counter\n",
    "\n",
    "# Sample word probability dictionary (Replace with real frequency data)\n",
    "word_probability = Counter({\n",
    "    \"family\": 500, \"familiar\": 300, \"fame\": 200, \"female\": 150, \"familial\": 100\n",
    "})\n",
    "\n",
    "# Function to generate edits (deletes, inserts, swaps, replaces)\n",
    "def edit(word):\n",
    "    letters = 'abcdefghijklmnopqrstuvwxyz'\n",
    "    splits = [(word[:i], word[i:]) for i in range(len(word) + 1)]\n",
    "    \n",
    "    deletes = [L + R[1:] for L, R in splits if R]\n",
    "    transposes = [L + R[1] + R[0] + R[2:] for L, R in splits if len(R) > 1]\n",
    "    replaces = [L + c + R[1:] for L, R in splits if R for c in letters]\n",
    "    inserts = [L + c + R for L, R in splits for c in letters]\n",
    "    \n",
    "    return set(deletes + transposes + replaces + inserts)\n",
    "\n",
    "# Spell checker function with probability-based ranking\n",
    "def spell_check_edit_2(word, count=5):\n",
    "    output = []\n",
    "    suggested_words = edit(word)  # Level one edit\n",
    "\n",
    "    # Second-level edit (for better accuracy)\n",
    "    for e1 in edit(word):\n",
    "        suggested_words.update(edit(e1))  \n",
    "\n",
    "    # Remove duplicates\n",
    "    suggested_words = list(set(suggested_words))\n",
    "\n",
    "    # Filter words that exist in word_probability dictionary\n",
    "    for wrd in suggested_words:\n",
    "        if wrd in word_probability:\n",
    "            output.append([wrd, word_probability[wrd]])\n",
    "\n",
    "    # Sort by probability and return top `count` words\n",
    "    if output:\n",
    "        return list(pd.DataFrame(output, columns=['word', 'prob'])\n",
    "                    .sort_values(by='prob', ascending=False)\n",
    "                    .head(count)['word'].values)\n",
    "    return [\"No suggestions found\"]\n",
    "\n",
    "# Function to check spelling when button is clicked\n",
    "def check_spelling():\n",
    "    word = entry.get().strip().lower()  # Get input word\n",
    "    if not word:\n",
    "        messagebox.showerror(\"Error\", \"Please enter a word.\")\n",
    "        return\n",
    "    \n",
    "    suggestions = spell_check_edit_2(word)  # Pass the word argument properly\n",
    "    \n",
    "    # Display suggestions in output_label\n",
    "    suggestions_text = \"\\n\".join(suggestions)\n",
    "    output_label.config(text=f\"Suggestions:\\n{suggestions_text}\")\n",
    "\n",
    "# Tkinter GUI\n",
    "root = tk.Tk()\n",
    "root.title(\"Spell Checker\")\n",
    "root.geometry(\"400x300\")\n",
    "\n",
    "# Title Label\n",
    "title_label = tk.Label(root, text=\"Spell Checker\", font=(\"Arial\", 16, \"bold\"))\n",
    "title_label.pack(pady=10)\n",
    "\n",
    "# Entry Field\n",
    "entry = tk.Entry(root, font=(\"Arial\", 14), width=25)\n",
    "entry.pack(pady=10)\n",
    "\n",
    "# Check Button\n",
    "check_button = tk.Button(root, text=\"Check Spelling\", command=check_spelling)\n",
    "check_button.pack(pady=10)\n",
    "\n",
    "# Output Label\n",
    "output_label = tk.Label(root, text=\"\", font=(\"Arial\", 12), fg=\"blue\")\n",
    "output_label.pack(pady=10)\n",
    "\n",
    "# Run Tkinter App\n",
    "root.mainloop()\n"
   ]
  },
  {
   "cell_type": "code",
   "execution_count": null,
   "id": "2d516384-ad53-47dd-8c21-b3a111d7d5eb",
   "metadata": {},
   "outputs": [],
   "source": []
  }
 ],
 "metadata": {
  "kernelspec": {
   "display_name": "Python 3 (ipykernel)",
   "language": "python",
   "name": "python3"
  },
  "language_info": {
   "codemirror_mode": {
    "name": "ipython",
    "version": 3
   },
   "file_extension": ".py",
   "mimetype": "text/x-python",
   "name": "python",
   "nbconvert_exporter": "python",
   "pygments_lexer": "ipython3",
   "version": "3.11.3"
  }
 },
 "nbformat": 4,
 "nbformat_minor": 5
}
